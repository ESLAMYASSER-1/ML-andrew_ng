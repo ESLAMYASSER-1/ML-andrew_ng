{
 "cells": [
  {
   "cell_type": "code",
   "execution_count": 1,
   "id": "72e91db6",
   "metadata": {},
   "outputs": [],
   "source": [
    "import numpy as np\n",
    "import matplotlib.pyplot as plt"
   ]
  },
  {
   "cell_type": "code",
   "execution_count": 2,
   "id": "b78ab020",
   "metadata": {},
   "outputs": [],
   "source": [
    "x_train = np.array([1.0, 2.0])   \n",
    "y_train = np.array([300.0, 500.0])"
   ]
  },
  {
   "cell_type": "code",
   "execution_count": 3,
   "id": "9f425d1f",
   "metadata": {},
   "outputs": [],
   "source": [
    "def cost_function(x, y, w, b):\n",
    "    m = x.shape[0]\n",
    "    cost = 0\n",
    "    for i in range(m):\n",
    "        cost += ((w*x[i] +b)-y[i])**2\n",
    "    return cost/(2*m)"
   ]
  },
  {
   "cell_type": "code",
   "execution_count": 5,
   "id": "355fb687",
   "metadata": {},
   "outputs": [],
   "source": [
    "def compute_gradient(x, y, w, b):\n",
    "    m = x.shape[0]\n",
    "    dj_dw = 0\n",
    "    dj_db = 0 \n",
    "    \n",
    "    for i in range(m):\n",
    "        err = (w*x[i] +b)-y[i]\n",
    "        dj_dw += err*x[i]\n",
    "        dj_db += err\n",
    "    return dj_dw/m, dj_db/m"
   ]
  },
  {
   "cell_type": "code",
   "execution_count": 6,
   "id": "ace93894",
   "metadata": {},
   "outputs": [],
   "source": [
    "def gradient_descent(x, y, w_in, b_in, alpha, num_iters, cost_function, gradient_function): \n",
    "    m = x.shape[0]\n",
    "    w= w_in\n",
    "    b= b_in\n",
    "    \n",
    "    for i in range(num_iters):\n",
    "        dj_dw, dj_db = compute_gradient(x, y, w, b)\n",
    "        w = w - alpha* dj_dw\n",
    "        b = b - alpha* dj_db\n",
    "    retunr "
   ]
  },
  {
   "cell_type": "code",
   "execution_count": null,
   "id": "31fa1776",
   "metadata": {},
   "outputs": [],
   "source": []
  }
 ],
 "metadata": {
  "kernelspec": {
   "display_name": "Python 3 (ipykernel)",
   "language": "python",
   "name": "python3"
  },
  "language_info": {
   "codemirror_mode": {
    "name": "ipython",
    "version": 3
   },
   "file_extension": ".py",
   "mimetype": "text/x-python",
   "name": "python",
   "nbconvert_exporter": "python",
   "pygments_lexer": "ipython3",
   "version": "3.9.13"
  }
 },
 "nbformat": 4,
 "nbformat_minor": 5
}
