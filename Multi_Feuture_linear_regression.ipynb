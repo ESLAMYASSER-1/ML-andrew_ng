{
 "cells": [
  {
   "cell_type": "code",
   "execution_count": 2,
   "id": "4f1f4a11",
   "metadata": {},
   "outputs": [
    {
     "data": {
      "text/plain": [
       "'\\nX_train\\ny_trian\\nmodel predict func \\ncost func \\ngradient func \\ngradient_descent func \\n'"
      ]
     },
     "execution_count": 2,
     "metadata": {},
     "output_type": "execute_result"
    }
   ],
   "source": [
    "\"\"\"\n",
    "X_train\n",
    "y_trian\n",
    "model predict func \n",
    "cost func \n",
    "gradient func \n",
    "gradient_descent func \n",
    "\"\"\""
   ]
  },
  {
   "cell_type": "code",
   "execution_count": 3,
   "id": "a01d9802",
   "metadata": {},
   "outputs": [],
   "source": [
    "import numpy as np\n",
    "import matplotlib.pyplot as plt\n",
    "import math, copy\n",
    "np.set_printoptions(precision=2) "
   ]
  },
  {
   "cell_type": "code",
   "execution_count": 4,
   "id": "87cad1ed",
   "metadata": {},
   "outputs": [],
   "source": [
    "X_train = np.array([[2104, 5, 1, 45], [1416, 3, 2, 40], [852, 2, 1, 35]])\n",
    "y_train = np.array([460, 232, 178])"
   ]
  },
  {
   "cell_type": "code",
   "execution_count": 5,
   "id": "57f3fe04",
   "metadata": {},
   "outputs": [],
   "source": [
    "def f_wb(x, w, b):\n",
    "    \"\"\"\n",
    "    predict one loop in the matrix\n",
    "    \"\"\"\n",
    "    p=0\n",
    "    m=len(x)\n",
    "    f_wb = np.dot(x,w)\n",
    "    p = p + f_wb\n",
    "    p = p + b\n",
    "    return p"
   ]
  },
  {
   "cell_type": "code",
   "execution_count": 6,
   "id": "6357a46d",
   "metadata": {},
   "outputs": [
    {
     "data": {
      "text/plain": [
       "459.9999976194082"
      ]
     },
     "execution_count": 6,
     "metadata": {},
     "output_type": "execute_result"
    }
   ],
   "source": [
    "x_vec = X_train[0,:]\n",
    "b_init = 785.1811367994083\n",
    "w_init = np.array([ 0.39133535, 18.75376741, -53.36032453, -26.42131618])\n",
    "\n",
    "f_wb(x_vec, w_init, b_init)"
   ]
  },
  {
   "cell_type": "code",
   "execution_count": 7,
   "id": "bae676f9",
   "metadata": {},
   "outputs": [],
   "source": [
    "def compute_cost(x, y, w, b):\n",
    "    \"\"\"\n",
    "    j_wb = 1/2m* sum(f_wb(x[i]) - y)**2\n",
    "    \"\"\"\n",
    "    \n",
    "    n= x.shape[0]\n",
    "    cost = 0\n",
    "    for i in range(n):\n",
    "        err = (np.dot(x[i],w)+b) -y[i]\n",
    "        cost += err**2\n",
    "    return cost/(2*n)"
   ]
  },
  {
   "cell_type": "code",
   "execution_count": 8,
   "id": "e56ba536",
   "metadata": {},
   "outputs": [
    {
     "data": {
      "text/plain": [
       "1.5578904330213735e-12"
      ]
     },
     "execution_count": 8,
     "metadata": {},
     "output_type": "execute_result"
    }
   ],
   "source": [
    "compute_cost(X_train, y_train, w_init, b_init)"
   ]
  },
  {
   "cell_type": "code",
   "execution_count": 9,
   "id": "23b46c93",
   "metadata": {},
   "outputs": [],
   "source": [
    "def compute_gradient(x, y, w, b):\n",
    "    \"\"\"\n",
    "    dj_dw(j(w,b)) = 1/m * (wx[i]+b -y)* x[i]\n",
    "    dj_db(j(w,b)) = 1/m * (wx[i]+b -y)\n",
    "    \"\"\"\n",
    "    m,n = x.shape\n",
    "    d_dw = np.zeros(n,)\n",
    "    d_db = 0.\n",
    "    for i in range(m):\n",
    "        err = (np.dot(x[i],w)+b)-y[i]\n",
    "        for j in range(n):\n",
    "            d_dw[j] = d_dw[j]+ err* x[i,j]\n",
    "            \n",
    "        d_db = d_db +err\n",
    "    d_dw = d_dw/m\n",
    "    d_db = d_db/m\n",
    "    return d_dw, d_db"
   ]
  },
  {
   "cell_type": "code",
   "execution_count": 10,
   "id": "0a9a07c4",
   "metadata": {},
   "outputs": [
    {
     "data": {
      "text/plain": [
       "(array([-2.73e-03, -6.27e-06, -2.22e-06, -6.92e-05]), -1.6739251122999121e-06)"
      ]
     },
     "execution_count": 10,
     "metadata": {},
     "output_type": "execute_result"
    }
   ],
   "source": [
    "compute_gradient(X_train, y_train, w_init, b_init)"
   ]
  },
  {
   "cell_type": "code",
   "execution_count": 11,
   "id": "36421f75",
   "metadata": {},
   "outputs": [],
   "source": [
    "def gradient_descent(x, y, w_in, b_in, compute_cost, compute_gradient, alpha, iter_num):\n",
    "    \"\"\"\n",
    "    w= w- alpha* dj_dw\n",
    "    b= b-alpha* dj_db\n",
    "    \"\"\"\n",
    "    J_history= []\n",
    "    W_hist =np.empty([iter_num,4])\n",
    "    w =copy.deepcopy(w_in)\n",
    "    b= b_in\n",
    "    for i in range(iter_num):\n",
    "        \n",
    "        dj_dw, dj_db = compute_gradient(x, y, w, b)\n",
    "        \n",
    "        w = w- alpha * dj_dw\n",
    "        b = b- alpha * dj_db\n",
    "        W_hist[i]=w\n",
    "        if i< 100000:\n",
    "            J_history.append(compute_cost(x, y, w, b))\n",
    "        \n",
    "        \n",
    "    return w, b, J_history, W_hist     "
   ]
  },
  {
   "cell_type": "code",
   "execution_count": 16,
   "id": "a63c3451",
   "metadata": {},
   "outputs": [
    {
     "name": "stdout",
     "output_type": "stream",
     "text": [
      "b,w found by gradient descent: -0.00,[ 0.21  0.01 -0.02 -0.13] \n",
      "prediction: 426.75, target value: 460\n",
      "prediction: 285.87, target value: 232\n",
      "prediction: 170.55, target value: 178\n"
     ]
    }
   ],
   "source": [
    "initial_w = np.zeros_like(w_init)\n",
    "initial_b = 0.\n",
    "iterations = 100000\n",
    "alpha = 1.0e-8\n",
    "\n",
    "w_final, b_final, J_hist, W_hist =gradient_descent(X_train, y_train, initial_w, initial_b, compute_cost, compute_gradient, alpha, iterations)\n",
    "print(f\"b,w found by gradient descent: {b_final:0.2f},{w_final} \")\n",
    "m,_ = X_train.shape\n",
    "for i in range(m):\n",
    "    print(f\"prediction: {np.dot(X_train[i], w_final) + b_final:0.2f}, target value: {y_train[i]}\")"
   ]
  },
  {
   "cell_type": "code",
   "execution_count": 18,
   "id": "3fb654f5",
   "metadata": {
    "scrolled": false
   },
   "outputs": [
    {
     "data": {
      "image/png": "[encoded data removed]",
      "text/plain": [
       "<Figure size 640x480 with 1 Axes>"
      ]
     },
     "metadata": {},
     "output_type": "display_data"
    }
   ],
   "source": [
    "plt.plot(np.arange(1,100001), J_hist)\n",
    "plt.show()"
   ]
  },
  {
   "cell_type": "code",
   "execution_count": 23,
   "id": "610bb098",
   "metadata": {
    "scrolled": false
   },
   "outputs": [
    {
     "data": {
      "text/plain": [
       "array([1.12e-05, 2.21e-05, 3.27e-05, ..., 5.57e-04, 5.57e-04, 5.58e-04])"
      ]
     },
     "execution_count": 23,
     "metadata": {},
     "output_type": "execute_result"
    }
   ],
   "source": [
    "W_hist[:00,1]"
   ]
  },
  {
   "cell_type": "code",
   "execution_count": 15,
   "id": "b6f9819f",
   "metadata": {},
   "outputs": [
    {
     "data": {
      "image/png": "[encoded data removed]",
      "text/plain": [
       "<Figure size 640x480 with 1 Axes>"
      ]
     },
     "metadata": {},
     "output_type": "display_data"
    }
   ],
   "source": [
    "plt.plot(J_hist, W_hist[:,3])\n",
    "plt.show()"
   ]
  },
  {
   "cell_type": "code",
   "execution_count": null,
   "id": "ee90facf",
   "metadata": {},
   "outputs": [],
   "source": []
  }
 ],
 "metadata": {
  "kernelspec": {
   "display_name": "Python 3 (ipykernel)",
   "language": "python",
   "name": "python3"
  },
  "language_info": {
   "codemirror_mode": {
    "name": "ipython",
    "version": 3
   },
   "file_extension": ".py",
   "mimetype": "text/x-python",
   "name": "python",
   "nbconvert_exporter": "python",
   "pygments_lexer": "ipython3",
   "version": "3.9.13"
  }
 },
 "nbformat": 4,
 "nbformat_minor": 5
}
