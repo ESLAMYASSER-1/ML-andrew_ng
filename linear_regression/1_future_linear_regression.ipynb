{
 "cells": [
  {
   "cell_type": "code",
   "execution_count": null,
   "id": "a5371853",
   "metadata": {},
   "outputs": [],
   "source": [
    "\"\"\"\n",
    "training model function \n",
    "cost funtion \n",
    "compute gradient \n",
    "gradient descent\n",
    "\"\"\""
   ]
  },
  {
   "cell_type": "code",
   "execution_count": 2,
   "id": "8631bad4",
   "metadata": {},
   "outputs": [],
   "source": [
    "import numpy as np \n",
    "import matplotlib.pyplot as plt"
   ]
  },
  {
   "cell_type": "code",
   "execution_count": 3,
   "id": "41056d43",
   "metadata": {},
   "outputs": [],
   "source": [
    "x_train = np.array([1.1,1.3,1.5,2.0,2.2,2.9,3.0,3.2,3.2,3.7,3.9,4.0,4.0,4.1,4.5,4.9,5.1,5.3,5.9,6.0,6.8,7.1,7.9,8.2,8.7,9.0,9.5,9.6,10.3,10.5])\n",
    "y_train = np.array([39343.00,46205.00,37731.00,43525.00,39891.00,56642.00,60150.00,54445.00,64445.00,57189.00,63218.00,55794.00,56957.00,57081.00,61111.00,67938.00,66029.00,83088.00,81363.00,93940.00,91738.00,98273.00,101302.00,113812.00,109431.00,105582.00,116969.00,112635.00,122391.00,121872.00])"
   ]
  },
  {
   "cell_type": "code",
   "execution_count": 4,
   "id": "6fbef87a",
   "metadata": {},
   "outputs": [],
   "source": [
    "def f_wb(x, y, w, b):\n",
    "    \"\"\"\n",
    "    f_wb = w*x[i] +b\n",
    "    \"\"\"\n",
    "    m = x.shape[0]\n",
    "    prediction = np.zeros(m)\n",
    "    for i in range(m):\n",
    "        f_wb = w*x[i]+b\n",
    "        prediction[i] =f_wb\n",
    "    return prediction"
   ]
  },
  {
   "cell_type": "code",
   "execution_count": 33,
   "id": "64e49c6d",
   "metadata": {},
   "outputs": [
    {
     "data": {
      "text/plain": [
       "array([ 23500.,  26100.,  28700.,  35200.,  37800.,  46900.,  48200.,\n",
       "        50800.,  50800.,  57300.,  59900.,  61200.,  61200.,  62500.,\n",
       "        67700.,  72900.,  75500.,  78100.,  85900.,  87200.,  97600.,\n",
       "       101500., 111900., 115800., 122300., 126200., 132700., 134000.,\n",
       "       143100., 145700.])"
      ]
     },
     "execution_count": 33,
     "metadata": {},
     "output_type": "execute_result"
    }
   ],
   "source": [
    "prediction =f_wb(x_train, y_train, 13000, 9200)\n",
    "prediction"
   ]
  },
  {
   "cell_type": "code",
   "execution_count": 35,
   "id": "2b880bb5",
   "metadata": {},
   "outputs": [
    {
     "data": {
      "image/png": "[encoded data removed]",
      "text/plain": [
       "<Figure size 640x480 with 1 Axes>"
      ]
     },
     "metadata": {},
     "output_type": "display_data"
    }
   ],
   "source": [
    "plt.scatter(x_train, y_train)\n",
    "plt.plot(x_train, prediction)\n",
    "plt.show()"
   ]
  },
  {
   "cell_type": "code",
   "execution_count": 37,
   "id": "7919fcca",
   "metadata": {},
   "outputs": [],
   "source": [
    "def compute_cost(x, y, w, b):\n",
    "    \"\"\"\n",
    "    j_wb = 1/2m *sum(f_wb - y[i])**2\n",
    "    \"\"\"\n",
    "    m = x.shape[0]\n",
    "    cost =0\n",
    "    for i in range(m):\n",
    "        f_wb = w*x[i] +b\n",
    "        cost += (f_wb - y[i])**2\n",
    "    total_cost = 1/(2*m)*cost\n",
    "    return total_cost"
   ]
  },
  {
   "cell_type": "code",
   "execution_count": 40,
   "id": "cac84ee5",
   "metadata": {},
   "outputs": [
    {
     "data": {
      "text/plain": [
       "81107268.7"
      ]
     },
     "execution_count": 40,
     "metadata": {},
     "output_type": "execute_result"
    }
   ],
   "source": [
    "compute_cost(x_train, y_train, 13000,1200)"
   ]
  },
  {
   "cell_type": "code",
   "execution_count": 42,
   "id": "81f153cc",
   "metadata": {},
   "outputs": [],
   "source": [
    "def compute_gradient(x, y, w, b):\n",
    "    \"\"\"\n",
    "    dj_dw = 1/m sum(f_wb -y[i])x[i]\n",
    "    dj_db = 1/m sum(f_wb -y[i])\n",
    "    \"\"\"\n",
    "    m =x.shape[0]\n",
    "    dj_dw =0\n",
    "    dj_db =0\n",
    "    for i in range(m):\n",
    "        f_wb = w*x[i] +b\n",
    "        dj_dw_i = (f_wb -y[i]) * x[i]\n",
    "        dj_db_i = (f_wb -y[i])\n",
    "        dj_dw += dj_dw_i\n",
    "        dj_db += dj_db_i\n",
    "    dj_dw = dj_dw/m\n",
    "    dj_db = dj_db/m\n",
    "    return dj_dw, dj_db"
   ]
  },
  {
   "cell_type": "code",
   "execution_count": 44,
   "id": "0d5f62bd",
   "metadata": {},
   "outputs": [
    {
     "data": {
      "text/plain": [
       "(-2806.033333333347, -5729.666666666667)"
      ]
     },
     "execution_count": 44,
     "metadata": {},
     "output_type": "execute_result"
    }
   ],
   "source": [
    "compute_gradient(x_train, y_train, 13000, 1200)"
   ]
  },
  {
   "cell_type": "code",
   "execution_count": 48,
   "id": "99c0f4db",
   "metadata": {},
   "outputs": [],
   "source": [
    "def gradient_descent(x, y, w_in, b_in, alpha, iter_num, compute_cost, compute_gradient):\n",
    "    \"\"\"\n",
    "    w = w- alpha* dj_dw\n",
    "    b = b- alpha* dj_db\n",
    "    \"\"\"\n",
    "    J_history = []\n",
    "    args_history = []\n",
    "    w= w_in\n",
    "    b= b_in\n",
    "    \n",
    "    for i in range(iter_num):\n",
    "        dj_dw, dj_db = compute_gradient(x, y, w, b)\n",
    "        w = w - alpha* dj_dw\n",
    "        b = b - alpha* dj_db\n",
    "        \n",
    "    return w, b"
   ]
  },
  {
   "cell_type": "code",
   "execution_count": 50,
   "id": "302800cd",
   "metadata": {},
   "outputs": [
    {
     "name": "stdout",
     "output_type": "stream",
     "text": [
      "(w,b) found by gradient descent: (9449.9623,25792.2002)\n"
     ]
    }
   ],
   "source": [
    "w_init = 0\n",
    "b_init = 0\n",
    "iterations = 100000\n",
    "tmp_alpha = 1.0e-2\n",
    "#gradient_descent(x_train, y_train, w_init , b_init, tmp_alpha, iterations, compute_cost, compute_gradient)\n",
    "w_final, b_final = gradient_descent(x_train ,y_train, w_init, b_init, tmp_alpha, iterations, compute_cost, compute_gradient)\n",
    "print(f\"(w,b) found by gradient descent: ({w_final:8.4f},{b_final:8.4f})\")"
   ]
  },
  {
   "cell_type": "code",
   "execution_count": 54,
   "id": "74c696fc",
   "metadata": {},
   "outputs": [
    {
     "data": {
      "text/plain": [
       "array([ 36187.15875227,  38077.15121656,  39967.14368085,  44692.12484158,\n",
       "        46582.11730587,  53197.09093089,  54142.08716303,  56032.07962732,\n",
       "        56032.07962732,  60757.06078805,  62647.05325234,  63592.04948449,\n",
       "        63592.04948449,  64537.04571663,  68317.03064522,  72097.0155738 ,\n",
       "        73987.00803809,  75877.00050238,  81546.97789525,  82491.9741274 ,\n",
       "        90051.94398456,  92886.932681  , 100446.90253816, 103281.8912346 ,\n",
       "       108006.87239533, 110841.86109176, 115566.84225249, 116511.83848464,\n",
       "       123126.81210966, 125016.80457395])"
      ]
     },
     "execution_count": 54,
     "metadata": {},
     "output_type": "execute_result"
    }
   ],
   "source": [
    "m = x_train.shape[0]\n",
    "prediction = np.zeros(m)\n",
    "for i in range(m):\n",
    "    f_wb = w_final*x_train[i] +b_final\n",
    "    prediction[i] = f_wb\n",
    "prediction"
   ]
  },
  {
   "cell_type": "code",
   "execution_count": null,
   "id": "80908a37",
   "metadata": {},
   "outputs": [],
   "source": [
    "plt."
   ]
  }
 ],
 "metadata": {
  "kernelspec": {
   "display_name": "Python 3 (ipykernel)",
   "language": "python",
   "name": "python3"
  },
  "language_info": {
   "codemirror_mode": {
    "name": "ipython",
    "version": 3
   },
   "file_extension": ".py",
   "mimetype": "text/x-python",
   "name": "python",
   "nbconvert_exporter": "python",
   "pygments_lexer": "ipython3",
   "version": "3.9.13"
  }
 },
 "nbformat": 4,
 "nbformat_minor": 5
}
