{
 "cells": [
  {
   "cell_type": "code",
   "execution_count": 1,
   "id": "13e2b2ca",
   "metadata": {},
   "outputs": [
    {
     "data": {
      "text/plain": [
       "'\\nx_train\\ny_train \\nf_wb\\nj_wb\\nw\\nb\\n'"
      ]
     },
     "execution_count": 1,
     "metadata": {},
     "output_type": "execute_result"
    }
   ],
   "source": [
    "\"\"\"\n",
    "x_train\n",
    "y_train \n",
    "f_wb\n",
    "j_wb\n",
    "w\n",
    "b\n",
    "\"\"\""
   ]
  },
  {
   "cell_type": "code",
   "execution_count": 32,
   "id": "d8e09444",
   "metadata": {},
   "outputs": [],
   "source": [
    "import math\n",
    "import numpy as np\n",
    "import matplotlib as mpl\n",
    "import matplotlib.pyplot as plt\n"
   ]
  },
  {
   "cell_type": "code",
   "execution_count": 11,
   "id": "bd49f376",
   "metadata": {},
   "outputs": [],
   "source": [
    "x_train = np.array([77,21,22,20,36,15,62,95,20,5,4,19,96,62,36,15,65,14,87,69,89,51,89,27,97,58,79,21,93,27,99,31,33,80,28,47,53,69,28])\n",
    "y_train = np.array([79.77515201,23.17727887,25.60926156,17.85738813,41.84986439,9.805234876,58.87465933,97.61793701,18.39512747,8.746747654,2.811415826,17.09537241,95.14907176,61.38800663,40.24701716,14.82248589,66.95806869,16.63507984,90.65513736,77.22982636,92.11906278,46.91387709,89.82634442,21.71380347,97.41206981,57.01631363,78.31056542,19.1315097,93.03483388,26.59112396,97.55155344,31.43524822,35.12724777,78.61042432,33.07112825,51.69967172,53.62235225,69.46306072,27.42497237])"
   ]
  },
  {
   "cell_type": "code",
   "execution_count": 13,
   "id": "f80e85c8",
   "metadata": {},
   "outputs": [
    {
     "data": {
      "image/png": "[encoded data removed]",
      "text/plain": [
       "<Figure size 640x480 with 1 Axes>"
      ]
     },
     "metadata": {},
     "output_type": "display_data"
    }
   ],
   "source": [
    "plt.scatter(x_train,y_train,c=\"r\",marker=\".\")\n",
    "plt.show()"
   ]
  },
  {
   "cell_type": "code",
   "execution_count": 28,
   "id": "b0248634",
   "metadata": {},
   "outputs": [],
   "source": [
    "def compute_cost(x, y, w, b):\n",
    "    \"\"\"\n",
    "    j_wb = 1/(2*m)* sum_im(f_wb(x[i])-y[i])**2\n",
    "    \"\"\"\n",
    "    cost_sum =0 \n",
    "    m = len(x)\n",
    "    for i in range(m):\n",
    "        f_wb = w*x[i] +b\n",
    "        cost = (f_wb -y[i])**2\n",
    "        cost_sum += cost\n",
    "    return 1/(2*m)*cost_sum"
   ]
  },
  {
   "cell_type": "code",
   "execution_count": 29,
   "id": "15e5232b",
   "metadata": {},
   "outputs": [
    {
     "data": {
      "text/plain": [
       "67688804.95603317"
      ]
     },
     "execution_count": 29,
     "metadata": {},
     "output_type": "execute_result"
    }
   ],
   "source": [
    "compute_cost(x_train,y_train,200,100)"
   ]
  },
  {
   "cell_type": "code",
   "execution_count": 30,
   "id": "b198c67d",
   "metadata": {},
   "outputs": [],
   "source": [
    "def compute_gradient(x, y, w, b):\n",
    "    \"\"\"\n",
    "    w= w - alpha *d/dw(j_wb(x[i]) - y[i])\n",
    "    d/dw(j_wb(x[i]) - y[i]) = 1/m sum_im(w*x[i] +b)*x[i]\n",
    "    b = w- alpha *d/db(j_wb(x[i]) - y[i])\n",
    "    d/db(j_wb(x[i]) - y[i]) = 1/m sum_im(w*x[i] +b)\n",
    "    \"\"\"\n",
    "    \n",
    "    m = len(x)\n",
    "    dj_dw = 0 \n",
    "    dj_db = 0\n",
    "    \n",
    "    for i in range(m):\n",
    "        f_wb = w*x[i] +b\n",
    "        dj_dw_i = (f_wb - y[i])*x[i]\n",
    "        dj_db_i = (f_wb - y[i])\n",
    "        dj_dw += dj_dw_i \n",
    "        dj_db += dj_db_i\n",
    "    \n",
    "    dj_dw = dj_dw/m\n",
    "    dj_db = dj_db/m\n",
    "    \n",
    "    return dj_dw , dj_db"
   ]
  },
  {
   "cell_type": "code",
   "execution_count": 31,
   "id": "d0e56fd2",
   "metadata": {},
   "outputs": [
    {
     "data": {
      "text/plain": [
       "(675309.9190987035, 9993.21088983472)"
      ]
     },
     "execution_count": 31,
     "metadata": {},
     "output_type": "execute_result"
    }
   ],
   "source": [
    "compute_gradient(x_train,y_train,200,100)"
   ]
  },
  {
   "cell_type": "code",
   "execution_count": 26,
   "id": "7b722633",
   "metadata": {},
   "outputs": [
    {
     "ename": "NameError",
     "evalue": "name 'f_wb' is not defined",
     "output_type": "error",
     "traceback": [
      "\u001b[1;31m---------------------------------------------------------------------------\u001b[0m",
      "\u001b[1;31mNameError\u001b[0m                                 Traceback (most recent call last)",
      "\u001b[1;32m~\\AppData\\Local\\Temp\\ipykernel_14160\\2733391792.py\u001b[0m in \u001b[0;36m<module>\u001b[1;34m\u001b[0m\n\u001b[1;32m----> 1\u001b[1;33m \u001b[0mplt\u001b[0m\u001b[1;33m.\u001b[0m\u001b[0mscatter\u001b[0m\u001b[1;33m(\u001b[0m\u001b[0mx_train\u001b[0m\u001b[1;33m,\u001b[0m\u001b[0my_train\u001b[0m\u001b[1;33m,\u001b[0m\u001b[0mf_wb\u001b[0m\u001b[1;33m,\u001b[0m\u001b[0mcompute_gradient\u001b[0m\u001b[1;33m)\u001b[0m\u001b[1;33m\u001b[0m\u001b[1;33m\u001b[0m\u001b[0m\n\u001b[0m",
      "\u001b[1;31mNameError\u001b[0m: name 'f_wb' is not defined"
     ]
    }
   ],
   "source": [
    "def gradient_descent(x, y, w_in, b_in, alpha, num_iters, cost_func, gradient_func):\n",
    "    j_history = []\n",
    "    args_history = []\n",
    "    \n",
    "    b= b_in\n",
    "    w= w_in\n",
    "    \n",
    "    for i in range(num_iters):\n",
    "        dj_dw , dj_db = gradient_func(x, y, w, b)\n",
    "        w= w - alpha* dj_dw\n",
    "        b= w - alpha* dj_db\n",
    "        \n",
    "        if i<100000:\n",
    "            j_history.append(cost_func(x, y, w, b))\n",
    "            args_history.append([w,b])\n",
    "            \n",
    "        if i% math.ceil(num_iters/10)==0:\n",
    "            print(f\"i = {i},--, cost= {}\")"
   ]
  }
 ],
 "metadata": {
  "kernelspec": {
   "display_name": "Python 3 (ipykernel)",
   "language": "python",
   "name": "python3"
  },
  "language_info": {
   "codemirror_mode": {
    "name": "ipython",
    "version": 3
   },
   "file_extension": ".py",
   "mimetype": "text/x-python",
   "name": "python",
   "nbconvert_exporter": "python",
   "pygments_lexer": "ipython3",
   "version": "3.9.13"
  }
 },
 "nbformat": 4,
 "nbformat_minor": 5
}
